{
 "cells": [
  {
   "cell_type": "markdown",
   "id": "2304a0dd",
   "metadata": {},
   "source": [
    "# 🧪 Lab: Modelling & Model Lifecycle — Predicting Plant Production (GIST Steel Dataset)\n",
    "\n",
    "---\n",
    "\n",
    "## 🎯 Learning Outcomes\n",
    "\n",
    "By completing this lab, you will be able to:\n",
    "\n",
    "- Prepare and analyse a dataset for modelling.  \n",
    "- Train and evaluate regression models.  \n",
    "- Apply cross-validation and hyperparameter tuning using scikit-learn.  \n",
    "- Track experiments and store models using MLflow and/or Optuna.  \n",
    "- Reflect on the practical aspects of managing the ML lifecycle.\n",
    "\n",
    "---\n"
   ]
  },
  {
   "cell_type": "markdown",
   "id": "885aa979",
   "metadata": {},
   "source": [
    "\n",
    "## 🧩 1. Data Setup and Exploration\n",
    "⏱ *Estimated time: 30–40 min*\n",
    "\n",
    "### 🧭 Objective  \n",
    "Understand the dataset structure and the target variable (“plant-level production”).\n",
    "\n",
    "---\n",
    "\n",
    "### **Task 1.1 – Load and Inspect Data**\n",
    "- Load the GIST Steel dataset. \n",
    "- Display basic info (shape, column names, missing values, and data types).  \n",
    "- Identify the target variable (production) and key features (capacity, ...).\n"
   ]
  },
  {
   "cell_type": "code",
   "execution_count": null,
   "id": "25a8520e",
   "metadata": {
    "vscode": {
     "languageId": "plaintext"
    }
   },
   "outputs": [],
   "source": []
  },
  {
   "cell_type": "markdown",
   "id": "a86a7f09",
   "metadata": {},
   "source": [
    "\n",
    "> 📝 *Markdown prompt:*  \n",
    "Describe any patterns or potential data quality issues you notice. Which variables might strongly influence production?\n",
    "\n",
    "---\n",
    "\n",
    "### **Task 1.2 – Data Cleaning**\n",
    "- Handle missing values appropriately (e.g., imputation, removal).  \n",
    "- Check for outliers or incorrect entries in numerical columns.  \n",
    "- Apply transformations if needed (e.g., log-transform for skewed distributions).\n",
    "\n",
    "> 📝 *Markdown prompt:*  \n",
    "Explain your cleaning choices. Why did you treat the missing or skewed data in that way?\n",
    "\n",
    "---\n"
   ]
  },
  {
   "cell_type": "code",
   "execution_count": null,
   "id": "dc245a7c",
   "metadata": {
    "vscode": {
     "languageId": "plaintext"
    }
   },
   "outputs": [],
   "source": []
  },
  {
   "cell_type": "markdown",
   "id": "6767c339",
   "metadata": {},
   "source": [
    "\n",
    "\n",
    "### **Task 1.3 – Feature Engineering**\n",
    "- Create at least two new variables that might improve model performance (e.g., “capacity per worker”, “energy efficiency”).  \n",
    "- Encode categorical variables and standardize numeric ones.\n",
    "- Bonus: you are free to use external socioeconomic or environmental data sources to enhance your feature set.\n",
    "\n",
    "> 📝 *Markdown prompt:*  \n",
    "Document your new feature(s). What business or operational insight do they represent?\n",
    "\n",
    "---\n"
   ]
  },
  {
   "cell_type": "code",
   "execution_count": null,
   "id": "d776f1c6",
   "metadata": {
    "vscode": {
     "languageId": "plaintext"
    }
   },
   "outputs": [],
   "source": []
  },
  {
   "cell_type": "markdown",
   "id": "9c51ad22",
   "metadata": {},
   "source": [
    "\n",
    "## 🔍 1.4 Feature Relationships and Correlations\n",
    "⏱ *Estimated time: 20–25 min*\n",
    "\n",
    "### 🧭 Objective  \n",
    "Before training models, it’s essential to understand how features relate to each other and to the target variable — both linearly and nonlinearly. This helps identify redundant or uninformative predictors and guides model choice.\n",
    "\n",
    "---\n",
    "\n",
    "### **Task 1.4.1 – Correlation Matrix (Linear Relationships)**\n",
    "- Compute a **correlation matrix** (e.g., using `df.corr()`, `seaborn.heatmap`, `skrub`) to examine pairwise linear relationships among numerical features.  \n",
    "- Focus on correlations between each feature and the target (`production`), as well as between features themselves.\n",
    "\n",
    "> 📝 *Markdown prompt:*  \n",
    "Which variables show the strongest correlation with production?  \n",
    "Do any features appear redundant or highly correlated with each other?\n",
    "\n",
    "---\n"
   ]
  },
  {
   "cell_type": "code",
   "execution_count": null,
   "id": "d922d89e",
   "metadata": {
    "vscode": {
     "languageId": "plaintext"
    }
   },
   "outputs": [],
   "source": []
  },
  {
   "cell_type": "markdown",
   "id": "9f5d9204",
   "metadata": {},
   "source": [
    "## 🧮 2. Building Baseline & Linear Models\n",
    "⏱ *Estimated time: 25–30 min*\n",
    "\n",
    "### 🧭 Objective  \n",
    "Establish a simple baseline, then train and interpret a linear model.\n",
    "\n",
    "---\n",
    "\n",
    "### **Task 2.1 – Baseline**\n",
    "- Compute a simple baseline predictor (e.g., mean or median production).  \n",
    "- Measure RMSE or MAE compared to actual values.\n",
    "\n",
    "> 📝 *Markdown prompt:*  \n",
    "Why is it useful to have a baseline model before trying more complex ones?\n",
    "\n",
    "---\n"
   ]
  },
  {
   "cell_type": "code",
   "execution_count": null,
   "id": "04b0f437",
   "metadata": {
    "vscode": {
     "languageId": "plaintext"
    }
   },
   "outputs": [],
   "source": []
  },
  {
   "cell_type": "markdown",
   "id": "5b7fb4c1",
   "metadata": {},
   "source": [
    "\n",
    "### **Task 2.2 – Linear Regression**\n",
    "- Train a multiple linear regression model using the key plant variables.  \n",
    "- Display coefficients and interpret their meaning.  \n",
    "- Evaluate the model on training and test data.\n",
    "\n",
    "> 📝 *Markdown prompt:*  \n",
    "Interpret one positive and one negative coefficient. What do they tell you about plant performance drivers?\n",
    "\n",
    "---\n"
   ]
  },
  {
   "cell_type": "code",
   "execution_count": null,
   "id": "0a7331b6",
   "metadata": {
    "vscode": {
     "languageId": "plaintext"
    }
   },
   "outputs": [],
   "source": []
  },
  {
   "cell_type": "markdown",
   "id": "150f8442",
   "metadata": {},
   "source": [
    "## 🔁 3. Model Evaluation and Selection\n",
    "⏱ *Estimated time: 45–60 min*\n",
    "\n",
    "### 🧭 Objective  \n",
    "Use cross-validation to estimate generalization performance and compare multiple model types.\n",
    "\n",
    "---\n",
    "\n",
    "### **Task 3.1 – Cross-Validation**\n",
    "- Apply **K-Fold cross-validation** (e.g., K=5).  \n",
    "- Record the average RMSE, MAE, and R² across folds.\n",
    "\n",
    "> 📝 *Markdown prompt:*  \n",
    "Summarize your results. How stable is performance across folds? What might this indicate about model variance?\n",
    "\n",
    "---\n"
   ]
  },
  {
   "cell_type": "code",
   "execution_count": null,
   "id": "10a1aa40",
   "metadata": {
    "vscode": {
     "languageId": "plaintext"
    }
   },
   "outputs": [],
   "source": []
  },
  {
   "cell_type": "markdown",
   "id": "890e114a",
   "metadata": {},
   "source": [
    "### **Task 3.2 – Model Comparison**\n",
    "Train and compare at least **three models**:\n",
    "- Linear Regression  \n",
    "- Ridge Regression (regularized linear)  \n",
    "- Random Forest Regressor  \n",
    "\n",
    "Record cross-validation performance for each model.\n",
    "\n",
    "> 📝 *Markdown prompt:*  \n",
    "Create a small results table. Which model performs best? Why might that be the case given the dataset’s characteristics?\n",
    "\n",
    "---"
   ]
  },
  {
   "cell_type": "code",
   "execution_count": null,
   "id": "26e62d50",
   "metadata": {
    "vscode": {
     "languageId": "plaintext"
    }
   },
   "outputs": [],
   "source": []
  },
  {
   "cell_type": "markdown",
   "id": "36c3f11c",
   "metadata": {},
   "source": [
    "### **Task 3.3 – Hyperparameter Optimization**\n",
    "- Use **RandomizedSearchCV** or **GridSearchCV** to tune the top model (e.g., Random Forest).  \n",
    "- Report the best parameters and corresponding validation score.\n",
    "\n",
    "> 📝 *Markdown prompt:*  \n",
    "Discuss the role of hyperparameter tuning. How did tuning change your model’s performance compared to default settings?\n",
    "\n",
    "---\n"
   ]
  },
  {
   "cell_type": "code",
   "execution_count": null,
   "id": "efd59efe",
   "metadata": {
    "vscode": {
     "languageId": "plaintext"
    }
   },
   "outputs": [],
   "source": []
  },
  {
   "cell_type": "markdown",
   "id": "19b44578",
   "metadata": {},
   "source": [
    "## ⚙️ 4. Model Lifecycle: Tracking, Saving, and Loading\n",
    "⏱ *Estimated time: 30–40 min*\n",
    "\n",
    "### 🧭 Objective  \n",
    "Apply tools that support reproducible ML experiments.\n",
    "\n",
    "---\n",
    "\n",
    "### **Task 4.1 – Experiment Tracking with MLflow**\n",
    "- Use MLflow to log parameters (model type, hyperparameters), metrics (RMSE, R²), and artifacts (plots or model files).  \n",
    "- Run and record at least two model experiments.\n",
    "\n",
    "> 📝 *Markdown prompt:*  \n",
    "Describe how MLflow helps manage your experiments. What advantages does it give compared to manual tracking?\n",
    "\n",
    "---"
   ]
  },
  {
   "cell_type": "code",
   "execution_count": null,
   "id": "ca467cda",
   "metadata": {
    "vscode": {
     "languageId": "plaintext"
    }
   },
   "outputs": [],
   "source": []
  },
  {
   "cell_type": "markdown",
   "id": "5762d18e",
   "metadata": {},
   "source": [
    "### **Task 4.2 – Hyperparameter Optimization with Optuna**\n",
    "- Define an Optuna study to optimize one model (e.g., Ridge or Random Forest).  \n",
    "- Record the number of trials and best result.\n",
    "\n",
    "> 📝 *Markdown prompt:*  \n",
    "Explain what Optuna is doing behind the scenes. How is it different from Grid or Random Search?\n",
    "\n",
    "---"
   ]
  },
  {
   "cell_type": "code",
   "execution_count": null,
   "id": "7de5748d",
   "metadata": {
    "vscode": {
     "languageId": "plaintext"
    }
   },
   "outputs": [],
   "source": []
  },
  {
   "cell_type": "markdown",
   "id": "f87598c0",
   "metadata": {},
   "source": [
    "### **Task 4.3 – Model Storage**\n",
    "- Save the best performing model to a file (e.g., using joblib or MLflow’s model registry).  \n",
    "- Demonstrate loading the saved model and re-evaluating it on the test set.\n",
    "\n",
    "> 📝 *Markdown prompt:*  \n",
    "Why is it important to store both model parameters and metadata? How would you ensure version control of models in a production setting?\n",
    "\n",
    "---"
   ]
  },
  {
   "cell_type": "code",
   "execution_count": null,
   "id": "0f22f5f8",
   "metadata": {
    "vscode": {
     "languageId": "plaintext"
    }
   },
   "outputs": [],
   "source": []
  },
  {
   "cell_type": "markdown",
   "id": "36a082b9",
   "metadata": {},
   "source": [
    "\n",
    "## 🚀 5. Deployment & Monitoring (Conceptual)\n",
    "⏱ *Estimated time: 15–20 min*\n",
    "\n",
    "### 🧭 Objective  \n",
    "Reflect on how models transition from training to production and stay reliable over time.\n",
    "\n",
    "---\n",
    "\n",
    "### **Task 5.1 – Deployment Planning**\n",
    "> 📝 *Markdown prompt:*  \n",
    "Describe how you would deploy your model in a business environment (e.g., via REST API, batch pipeline).  \n",
    "Which metrics would you monitor in production?\n",
    "\n",
    "---"
   ]
  },
  {
   "cell_type": "code",
   "execution_count": null,
   "id": "24216507",
   "metadata": {
    "vscode": {
     "languageId": "plaintext"
    }
   },
   "outputs": [],
   "source": []
  },
  {
   "cell_type": "markdown",
   "id": "e6668353",
   "metadata": {},
   "source": [
    "### **Task 5.2 – Detecting Model Drift**\n",
    "> 📝 *Markdown prompt:*  \n",
    "What signs might indicate your model needs retraining?  \n",
    "Give one example of **data drift** and one of **concept drift** relevant to steel plant production.\n",
    "\n",
    "---"
   ]
  },
  {
   "cell_type": "code",
   "execution_count": null,
   "id": "14e4ebe6",
   "metadata": {
    "vscode": {
     "languageId": "plaintext"
    }
   },
   "outputs": [],
   "source": []
  },
  {
   "cell_type": "markdown",
   "id": "56595305",
   "metadata": {},
   "source": [
    "## 💬 6. Reflection\n",
    "⏱ *Estimated time: 10–15 min*\n",
    "\n",
    "> 📝 *Markdown prompt:*  \n",
    "1. Which step of the modelling lifecycle did you find most challenging and why?  \n",
    "2. What would you do differently if you had access to additional plant-level data?  \n",
    "3. How would you communicate model insights to a business audience?\n",
    "\n",
    "---"
   ]
  },
  {
   "cell_type": "code",
   "execution_count": null,
   "id": "1e4a2d01",
   "metadata": {
    "vscode": {
     "languageId": "plaintext"
    }
   },
   "outputs": [],
   "source": []
  },
  {
   "cell_type": "markdown",
   "id": "835c237c",
   "metadata": {
    "vscode": {
     "languageId": "plaintext"
    }
   },
   "source": [
    "✅ **End of Lab**\n",
    "\n",
    "Next week: Short quiz on theoretical concepts (distributions, regression, model selection, and experiment tracking).\n",
    "\n"
   ]
  }
 ],
 "metadata": {
  "language_info": {
   "name": "python"
  }
 },
 "nbformat": 4,
 "nbformat_minor": 5
}
